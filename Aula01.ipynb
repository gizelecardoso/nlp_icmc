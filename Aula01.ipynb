{
  "nbformat": 4,
  "nbformat_minor": 0,
  "metadata": {
    "colab": {
      "name": "Aula01.ipynb",
      "provenance": [],
      "collapsed_sections": [],
      "toc_visible": true,
      "authorship_tag": "ABX9TyObvQJZjwj4tdO1r+oph+yp",
      "include_colab_link": true
    },
    "kernelspec": {
      "name": "python3",
      "display_name": "Python 3"
    },
    "language_info": {
      "name": "python"
    }
  },
  "cells": [
    {
      "cell_type": "markdown",
      "metadata": {
        "id": "view-in-github",
        "colab_type": "text"
      },
      "source": [
        "<a href=\"https://colab.research.google.com/github/gizelecardoso/nlp_icmc/blob/main/Aula01.ipynb\" target=\"_parent\"><img src=\"https://colab.research.google.com/assets/colab-badge.svg\" alt=\"Open In Colab\"/></a>"
      ]
    },
    {
      "cell_type": "markdown",
      "metadata": {
        "id": "MrcB1JddBC4Q"
      },
      "source": [
        "# Parte 1 - Curso de Python para PLN"
      ]
    },
    {
      "cell_type": "markdown",
      "metadata": {
        "id": "wCSUtTDvB3rs"
      },
      "source": [
        "Python"
      ]
    },
    {
      "cell_type": "markdown",
      "metadata": {
        "id": "nMM5Bvv3SeZh"
      },
      "source": [
        "## Tipagem Python"
      ]
    },
    {
      "cell_type": "code",
      "metadata": {
        "colab": {
          "base_uri": "https://localhost:8080/"
        },
        "id": "MhpciOj4B_hA",
        "outputId": "7e8812cc-e6fc-4cac-a14b-18148289394d"
      },
      "source": [
        "print(type('Hello World'))\n",
        "print(type(10))\n",
        "print(type(1.0))\n",
        "print(type(True))"
      ],
      "execution_count": null,
      "outputs": [
        {
          "output_type": "stream",
          "text": [
            "<class 'str'>\n",
            "<class 'int'>\n",
            "<class 'float'>\n",
            "<class 'bool'>\n"
          ],
          "name": "stdout"
        }
      ]
    },
    {
      "cell_type": "code",
      "metadata": {
        "id": "nkfIomcfmM78"
      },
      "source": [
        "a = 10\n",
        "b = 'PLN'\n",
        "c = 10 > 2\n",
        "d = 1.0"
      ],
      "execution_count": null,
      "outputs": []
    },
    {
      "cell_type": "code",
      "metadata": {
        "colab": {
          "base_uri": "https://localhost:8080/"
        },
        "id": "LzIDe4tSFWH0",
        "outputId": "67c7f30b-1932-492e-f260-a7bb62f5e926"
      },
      "source": [
        "print(type(a))\n",
        "print(type(b))\n",
        "print(type(c))\n",
        "print(type(d))"
      ],
      "execution_count": null,
      "outputs": [
        {
          "output_type": "stream",
          "text": [
            "<class 'int'>\n",
            "<class 'str'>\n",
            "<class 'bool'>\n",
            "<class 'float'>\n"
          ],
          "name": "stdout"
        }
      ]
    },
    {
      "cell_type": "code",
      "metadata": {
        "colab": {
          "base_uri": "https://localhost:8080/"
        },
        "id": "--H722HsGLPo",
        "outputId": "a586c9eb-3194-4f9f-b2d7-d1be02347ef6"
      },
      "source": [
        "resultado = a + d\n",
        "print(resultado)"
      ],
      "execution_count": null,
      "outputs": [
        {
          "output_type": "stream",
          "text": [
            "11.0\n"
          ],
          "name": "stdout"
        }
      ]
    },
    {
      "cell_type": "code",
      "metadata": {
        "colab": {
          "base_uri": "https://localhost:8080/"
        },
        "id": "CNgiJgzuGUam",
        "outputId": "9ab44335-c41b-4956-b4e4-325c34dab787"
      },
      "source": [
        "print(a)\n",
        "a = 'Python'\n",
        "print(a)\n",
        "print(type(a))"
      ],
      "execution_count": null,
      "outputs": [
        {
          "output_type": "stream",
          "text": [
            "10\n",
            "Python\n",
            "<class 'str'>\n"
          ],
          "name": "stdout"
        }
      ]
    },
    {
      "cell_type": "code",
      "metadata": {
        "colab": {
          "base_uri": "https://localhost:8080/"
        },
        "id": "SB9dSW8kHmxf",
        "outputId": "88796170-0e6d-463f-a936-df34294899cd"
      },
      "source": [
        "numero = 1\n",
        "texto = '1'\n",
        "print(numero + int(texto))"
      ],
      "execution_count": null,
      "outputs": [
        {
          "output_type": "stream",
          "text": [
            "2\n"
          ],
          "name": "stdout"
        }
      ]
    },
    {
      "cell_type": "code",
      "metadata": {
        "colab": {
          "base_uri": "https://localhost:8080/"
        },
        "id": "1rOtclvUIJZO",
        "outputId": "591f7a9f-6eb5-45f5-a0f1-f1552b332eb3"
      },
      "source": [
        "numero = 1\n",
        "texto = '1'\n",
        "print(str(numero) + texto)"
      ],
      "execution_count": null,
      "outputs": [
        {
          "output_type": "stream",
          "text": [
            "11\n"
          ],
          "name": "stdout"
        }
      ]
    },
    {
      "cell_type": "markdown",
      "metadata": {
        "id": "HPnwUU6iSlEh"
      },
      "source": [
        "## Estrutura Condicional"
      ]
    },
    {
      "cell_type": "code",
      "metadata": {
        "colab": {
          "base_uri": "https://localhost:8080/"
        },
        "id": "AfwLe76_IuXW",
        "outputId": "735c15c7-c920-4e76-b40f-05e7926d17be"
      },
      "source": [
        "if numero > 10:\n",
        "  print(\"numero é menor que 10, numero: \" + str(numero))\n",
        "  print(\"10 unidades\")\n",
        "  print(\"Testando o IF\")\n",
        "else:\n",
        "    print(\"numero é maior que 10, numero: \" + str(numero))"
      ],
      "execution_count": null,
      "outputs": [
        {
          "output_type": "stream",
          "text": [
            "numero é maior que 10, numero: 1\n"
          ],
          "name": "stdout"
        }
      ]
    },
    {
      "cell_type": "markdown",
      "metadata": {
        "id": "MF3O4P_lKk2j"
      },
      "source": [
        "## Listas e Tuplas"
      ]
    },
    {
      "cell_type": "code",
      "metadata": {
        "colab": {
          "base_uri": "https://localhost:8080/"
        },
        "id": "mRSPBk71Kokw",
        "outputId": "979601ea-9d30-45b3-f8e9-3ef4aa47ed35"
      },
      "source": [
        "lista = [1,2,3]\n",
        "tupla = (1,2,3)\n",
        "\n",
        "print(type(lista))\n",
        "print(type(tupla))"
      ],
      "execution_count": null,
      "outputs": [
        {
          "output_type": "stream",
          "text": [
            "<class 'list'>\n",
            "<class 'tuple'>\n"
          ],
          "name": "stdout"
        }
      ]
    },
    {
      "cell_type": "code",
      "metadata": {
        "colab": {
          "base_uri": "https://localhost:8080/"
        },
        "id": "08a71FSvKxG9",
        "outputId": "e895bdc7-392a-49e8-b016-98dfb954d338"
      },
      "source": [
        "print(lista)\n",
        "lista[0] = 4\n",
        "print(lista)\n",
        "\n",
        "print(tupla)\n",
        "# tupla[0] = 4 -> tupla é imutavel = essa linha retorna um erro"
      ],
      "execution_count": null,
      "outputs": [
        {
          "output_type": "stream",
          "text": [
            "[4, 2, 3, 'PLN']\n",
            "[4, 2, 3, 'PLN']\n",
            "(1, 2, 3)\n"
          ],
          "name": "stdout"
        }
      ]
    },
    {
      "cell_type": "markdown",
      "metadata": {
        "id": "21tM7wqfMnjZ"
      },
      "source": [
        "#### Operações na Lista"
      ]
    },
    {
      "cell_type": "code",
      "metadata": {
        "colab": {
          "base_uri": "https://localhost:8080/"
        },
        "id": "gFfmPzIMMmAr",
        "outputId": "e9cf86f7-f68a-4c67-c0ac-ea3aaa619d05"
      },
      "source": [
        "print(list(range(1,10)))"
      ],
      "execution_count": null,
      "outputs": [
        {
          "output_type": "stream",
          "text": [
            "[1, 2, 3, 4, 5, 6, 7, 8, 9]\n"
          ],
          "name": "stdout"
        }
      ]
    },
    {
      "cell_type": "markdown",
      "metadata": {
        "id": "aGJMbxvuNMUr"
      },
      "source": [
        "\n",
        "\n",
        "1.   append\n",
        "\n"
      ]
    },
    {
      "cell_type": "code",
      "metadata": {
        "colab": {
          "base_uri": "https://localhost:8080/"
        },
        "id": "2hxSlNcfM3HJ",
        "outputId": "ff77fc16-9c03-41b4-812b-e946fe2db72a"
      },
      "source": [
        "lista.append(5)\n",
        "print(lista)"
      ],
      "execution_count": null,
      "outputs": [
        {
          "output_type": "stream",
          "text": [
            "[4, 2, 3, 'PLN', 5, 5]\n"
          ],
          "name": "stdout"
        }
      ]
    },
    {
      "cell_type": "markdown",
      "metadata": {
        "id": "fmAcOzHZNRTq"
      },
      "source": [
        "\n",
        "\n",
        "2.   insert\n",
        "\n",
        "\n"
      ]
    },
    {
      "cell_type": "code",
      "metadata": {
        "colab": {
          "base_uri": "https://localhost:8080/"
        },
        "id": "UTtaDMnuNUbv",
        "outputId": "bc015c3c-5dea-400f-df46-dad95ceaaa2f"
      },
      "source": [
        "lista.insert(0,7)\n",
        "print(lista)"
      ],
      "execution_count": null,
      "outputs": [
        {
          "output_type": "stream",
          "text": [
            "[7, 4, 2, 3, 'PLN', 5, 5]\n"
          ],
          "name": "stdout"
        }
      ]
    },
    {
      "cell_type": "markdown",
      "metadata": {
        "id": "hOXENRk4NeRO"
      },
      "source": [
        "\n",
        "\n",
        "3.   reverse\n",
        "\n"
      ]
    },
    {
      "cell_type": "code",
      "metadata": {
        "colab": {
          "base_uri": "https://localhost:8080/"
        },
        "id": "lkCCIBltNifP",
        "outputId": "7333ad11-6893-42e5-c08a-1b112c34ea27"
      },
      "source": [
        "lista.reverse()\n",
        "print(lista)"
      ],
      "execution_count": null,
      "outputs": [
        {
          "output_type": "stream",
          "text": [
            "[5, 5, 'PLN', 3, 2, 4, 7]\n"
          ],
          "name": "stdout"
        }
      ]
    },
    {
      "cell_type": "markdown",
      "metadata": {
        "id": "V8M4MYwwNwid"
      },
      "source": [
        "\n",
        "\n",
        "4.   sort\n",
        "\n"
      ]
    },
    {
      "cell_type": "code",
      "metadata": {
        "colab": {
          "base_uri": "https://localhost:8080/"
        },
        "id": "nim1z1YtNxA0",
        "outputId": "31dfea5f-f426-478d-b10e-77ed498e5e4d"
      },
      "source": [
        "lista1 = [3, 1, 4, 10, 5]\n",
        "\n",
        "lista1.sort()\n",
        "print(lista1)"
      ],
      "execution_count": null,
      "outputs": [
        {
          "output_type": "stream",
          "text": [
            "[1, 3, 4, 5, 10]\n"
          ],
          "name": "stdout"
        }
      ]
    },
    {
      "cell_type": "markdown",
      "metadata": {
        "id": "Y64lsamIOF3l"
      },
      "source": [
        "\n",
        "\n",
        "5.   extend\n",
        "\n",
        "\n",
        "\n"
      ]
    },
    {
      "cell_type": "code",
      "metadata": {
        "colab": {
          "base_uri": "https://localhost:8080/"
        },
        "id": "H6haiORhOE0q",
        "outputId": "2fd123cb-8b27-4327-c992-a8b765cf37d3"
      },
      "source": [
        "add = list(range(5))\n",
        "print(add)\n",
        "lista.extend(add)\n",
        "print(lista)"
      ],
      "execution_count": null,
      "outputs": [
        {
          "output_type": "stream",
          "text": [
            "[0, 1, 2, 3, 4]\n",
            "[5, 5, 'PLN', 3, 2, 4, 7, 0, 1, 2, 3, 4]\n"
          ],
          "name": "stdout"
        }
      ]
    },
    {
      "cell_type": "markdown",
      "metadata": {
        "id": "wQKAO275OeF3"
      },
      "source": [
        "\n",
        "\n",
        "6.   remove\n",
        "\n"
      ]
    },
    {
      "cell_type": "code",
      "metadata": {
        "colab": {
          "base_uri": "https://localhost:8080/"
        },
        "id": "XgvzndcyOX0B",
        "outputId": "28f3ecd9-86a7-47cb-ce63-63f03921dd0b"
      },
      "source": [
        "lista.remove(5)\n",
        "print(lista)"
      ],
      "execution_count": null,
      "outputs": [
        {
          "output_type": "stream",
          "text": [
            "[5, 'PLN', 3, 2, 4, 7, 0, 1, 2, 3, 4]\n"
          ],
          "name": "stdout"
        }
      ]
    },
    {
      "cell_type": "markdown",
      "metadata": {
        "id": "xc4n3AExOnu2"
      },
      "source": [
        "\n",
        "\n",
        "7.  index\n",
        "\n"
      ]
    },
    {
      "cell_type": "code",
      "metadata": {
        "colab": {
          "base_uri": "https://localhost:8080/"
        },
        "id": "nQN8tz4cOigm",
        "outputId": "07d7509d-41bf-4158-8259-1e2fe97f40ab"
      },
      "source": [
        "print(lista.index(3))"
      ],
      "execution_count": null,
      "outputs": [
        {
          "output_type": "stream",
          "text": [
            "2\n"
          ],
          "name": "stdout"
        }
      ]
    },
    {
      "cell_type": "markdown",
      "metadata": {
        "id": "WaZEO1FhO08A"
      },
      "source": [
        "\n",
        "\n",
        "8.   count\n",
        "\n",
        "\n"
      ]
    },
    {
      "cell_type": "code",
      "metadata": {
        "colab": {
          "base_uri": "https://localhost:8080/"
        },
        "id": "INdRm19xOsYO",
        "outputId": "9c12b678-55b5-458d-c6d4-b1cab6584580"
      },
      "source": [
        "print(lista.count(2))"
      ],
      "execution_count": null,
      "outputs": [
        {
          "output_type": "stream",
          "text": [
            "2\n"
          ],
          "name": "stdout"
        }
      ]
    },
    {
      "cell_type": "markdown",
      "metadata": {
        "id": "dM4XezGwPnb-"
      },
      "source": [
        "### Slicing"
      ]
    },
    {
      "cell_type": "code",
      "metadata": {
        "id": "rnjkn3brPG_g",
        "colab": {
          "base_uri": "https://localhost:8080/"
        },
        "outputId": "96212719-e9d9-4858-ad72-1e57a567573b"
      },
      "source": [
        "lista2 = list(range(10))\n",
        "print(lista2)\n",
        "lista2[1:5]"
      ],
      "execution_count": 45,
      "outputs": [
        {
          "output_type": "stream",
          "text": [
            "[0, 1, 2, 3, 4, 5, 6, 7, 8, 9]\n"
          ],
          "name": "stdout"
        },
        {
          "output_type": "execute_result",
          "data": {
            "text/plain": [
              "[1, 2, 3, 4]"
            ]
          },
          "metadata": {
            "tags": []
          },
          "execution_count": 45
        }
      ]
    },
    {
      "cell_type": "code",
      "metadata": {
        "colab": {
          "base_uri": "https://localhost:8080/"
        },
        "id": "KHS4kxiDPte5",
        "outputId": "528dc43d-8146-4bcf-ce68-d46baf9fbbc3"
      },
      "source": [
        "print(lista2)\n",
        "lista2[0:8:2]"
      ],
      "execution_count": 47,
      "outputs": [
        {
          "output_type": "stream",
          "text": [
            "[0, 1, 2, 3, 4, 5, 6, 7, 8, 9]\n"
          ],
          "name": "stdout"
        },
        {
          "output_type": "execute_result",
          "data": {
            "text/plain": [
              "[0, 2, 4, 6]"
            ]
          },
          "metadata": {
            "tags": []
          },
          "execution_count": 47
        }
      ]
    },
    {
      "cell_type": "code",
      "metadata": {
        "colab": {
          "base_uri": "https://localhost:8080/"
        },
        "id": "3dvYH4CjQi-F",
        "outputId": "1fa259fd-4208-41ca-f887-6d784cd1ee61"
      },
      "source": [
        "lista2[:3]"
      ],
      "execution_count": 48,
      "outputs": [
        {
          "output_type": "execute_result",
          "data": {
            "text/plain": [
              "[0, 1, 2]"
            ]
          },
          "metadata": {
            "tags": []
          },
          "execution_count": 48
        }
      ]
    },
    {
      "cell_type": "code",
      "metadata": {
        "colab": {
          "base_uri": "https://localhost:8080/"
        },
        "id": "leNy1qLSQpjk",
        "outputId": "9ab31c9f-ec09-4ba6-ac80-9506ae12b226"
      },
      "source": [
        "lista2[3:]"
      ],
      "execution_count": 49,
      "outputs": [
        {
          "output_type": "execute_result",
          "data": {
            "text/plain": [
              "[3, 4, 5, 6, 7, 8, 9]"
            ]
          },
          "metadata": {
            "tags": []
          },
          "execution_count": 49
        }
      ]
    },
    {
      "cell_type": "code",
      "metadata": {
        "colab": {
          "base_uri": "https://localhost:8080/"
        },
        "id": "WXqiW3KbQwNz",
        "outputId": "50a9f0fd-c2c9-454e-e396-9447a49b9444"
      },
      "source": [
        "lista2[-3:]"
      ],
      "execution_count": 51,
      "outputs": [
        {
          "output_type": "execute_result",
          "data": {
            "text/plain": [
              "[7, 8, 9]"
            ]
          },
          "metadata": {
            "tags": []
          },
          "execution_count": 51
        }
      ]
    },
    {
      "cell_type": "code",
      "metadata": {
        "colab": {
          "base_uri": "https://localhost:8080/"
        },
        "id": "Z0J52lHDRKx2",
        "outputId": "30da9a7c-0ded-49f3-88eb-d0b6d6b86c1a"
      },
      "source": [
        "lista2[-1]"
      ],
      "execution_count": 52,
      "outputs": [
        {
          "output_type": "execute_result",
          "data": {
            "text/plain": [
              "9"
            ]
          },
          "metadata": {
            "tags": []
          },
          "execution_count": 52
        }
      ]
    },
    {
      "cell_type": "code",
      "metadata": {
        "colab": {
          "base_uri": "https://localhost:8080/"
        },
        "id": "1H8nBzLzRUKI",
        "outputId": "8df16ff8-f055-443d-ac3f-5d408e2fdb06"
      },
      "source": [
        "lista2[:-3]"
      ],
      "execution_count": 57,
      "outputs": [
        {
          "output_type": "execute_result",
          "data": {
            "text/plain": [
              "[0, 1, 2, 3, 4, 5, 6]"
            ]
          },
          "metadata": {
            "tags": []
          },
          "execution_count": 57
        }
      ]
    },
    {
      "cell_type": "code",
      "metadata": {
        "colab": {
          "base_uri": "https://localhost:8080/"
        },
        "id": "FLxmleygRdk2",
        "outputId": "124c8cb3-9939-4bd0-cc8e-cf24e5860feb"
      },
      "source": [
        "lista2[::-1]   # reverse"
      ],
      "execution_count": 59,
      "outputs": [
        {
          "output_type": "execute_result",
          "data": {
            "text/plain": [
              "[9, 8, 7, 6, 5, 4, 3, 2, 1, 0]"
            ]
          },
          "metadata": {
            "tags": []
          },
          "execution_count": 59
        }
      ]
    }
  ]
}